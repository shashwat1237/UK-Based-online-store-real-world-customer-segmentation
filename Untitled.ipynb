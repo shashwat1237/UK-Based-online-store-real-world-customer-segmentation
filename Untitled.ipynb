{
 "cells": [
  {
   "cell_type": "code",
   "execution_count": 1,
   "id": "a634de31-490c-452e-967b-ac9f625a114e",
   "metadata": {},
   "outputs": [],
   "source": [
    "import pandas as pd\n",
    "from sklearn.preprocessing import LabelEncoder\n",
    "import numpy as np\n",
    "from sklearn.cluster import DBSCAN\n",
    "from sklearn.preprocessing import StandardScaler\n",
    "import matplotlib.pyplot as plt\n",
    "import re\n",
    "import time\n",
    "import math\n",
    "from scipy.stats import skew"
   ]
  },
  {
   "cell_type": "code",
   "execution_count": 2,
   "id": "9e46fc57-fc22-4b78-9b4c-52a06ee1c48c",
   "metadata": {},
   "outputs": [],
   "source": [
    "def give_dictionary(desc):\n",
    "    #desc=df[\"Description\"].dropna()\n",
    "    desc=desc.dropna()\n",
    "    parts=[]\n",
    "    dicti={}\n",
    "    l=len(desc)\n",
    "    for index in range(l):\n",
    "\n",
    "        try:\n",
    "            parts = re.split(r\"[.,\\-_\\+/()\\[\\]{}\\s]+\", desc.iloc[index].lower().replace(\"'s\",\" \"))\n",
    "        except:\n",
    "            print(desc.iloc[index])\n",
    "        parts = [p for p in parts if p]\n",
    "        \n",
    "        for p in parts:\n",
    "            try:\n",
    "                dicti[p]+=(1)*100/l\n",
    "            except:\n",
    "                dicti[p]=1*100/l\n",
    "    sorted_by_keys = sorted(dicti.items(), reverse=True,key=lambda item: item[1])\n",
    "    return sorted_by_keys\n",
    "def give_inv_cost(series):\n",
    "    split_df = series.str.split(\"-\", n=1, expand=True)\n",
    "    split_df.columns=[\"Invoice\",\"Price\"]\n",
    "    split_df[\"Price\"]=split_df[\"Price\"].astype(float)\n",
    "\n",
    "    return split_df.groupby(\"Invoice\")[\"Price\"].sum().mean()\n",
    "def custom_function(x):\n",
    "    if x < 0:\n",
    "        return math.exp(x)\n",
    "    else:\n",
    "        return 1 - math.exp(-x)\n"
   ]
  },
  {
   "cell_type": "code",
   "execution_count": 3,
   "id": "9c5a4331-5189-465e-8a9d-4a6d10869ed5",
   "metadata": {},
   "outputs": [],
   "source": [
    "df=pd.read_csv(\"online_retail_2.csv\",header=0)"
   ]
  },
  {
   "cell_type": "code",
   "execution_count": null,
   "id": "f7f92b08-3e0b-43bb-a127-80ced01abd6f",
   "metadata": {},
   "outputs": [],
   "source": []
  },
  {
   "cell_type": "code",
   "execution_count": 4,
   "id": "991651d7-d1d8-48ac-86cd-2146e503a807",
   "metadata": {},
   "outputs": [
    {
     "name": "stdout",
     "output_type": "stream",
     "text": [
      "<class 'pandas.core.frame.DataFrame'>\n",
      "RangeIndex: 1067371 entries, 0 to 1067370\n",
      "Data columns (total 8 columns):\n",
      " #   Column       Non-Null Count    Dtype  \n",
      "---  ------       --------------    -----  \n",
      " 0   Invoice      1067371 non-null  object \n",
      " 1   StockCode    1067371 non-null  object \n",
      " 2   Description  1062989 non-null  object \n",
      " 3   Quantity     1067371 non-null  int64  \n",
      " 4   InvoiceDate  1067371 non-null  object \n",
      " 5   Price        1067371 non-null  float64\n",
      " 6   Customer ID  824364 non-null   float64\n",
      " 7   Country      1067371 non-null  object \n",
      "dtypes: float64(2), int64(1), object(5)\n",
      "memory usage: 65.1+ MB\n"
     ]
    }
   ],
   "source": [
    "df.info()"
   ]
  },
  {
   "cell_type": "code",
   "execution_count": 5,
   "id": "a1ec24a2-7410-428d-aeee-318fa65485a7",
   "metadata": {},
   "outputs": [],
   "source": [
    "df=df[(df[\"Price\"]>0)&(df[\"Quantity\"]>0)]"
   ]
  },
  {
   "cell_type": "code",
   "execution_count": 6,
   "id": "60fc0b5d-72be-446d-b549-06fd58b99f5c",
   "metadata": {},
   "outputs": [
    {
     "name": "stdout",
     "output_type": "stream",
     "text": [
      "2009-12-01 07:45:00\n"
     ]
    }
   ],
   "source": [
    "df['InvoiceDate'] = pd.to_datetime(df['InvoiceDate'])\n",
    "print(df[\"InvoiceDate\"].min())\n",
    "df[\"Timestamp\"]=(df[\"InvoiceDate\"].dt.year*360)+(df[\"InvoiceDate\"].dt.month*30)+df[\"InvoiceDate\"].dt.day-723600\n",
    "df[\"Month\"]=df[\"InvoiceDate\"].dt.month\n",
    "\n",
    "df.drop(columns=[\"InvoiceDate\"],inplace=True)\n"
   ]
  },
  {
   "cell_type": "code",
   "execution_count": 7,
   "id": "a6c1ab06-7e45-4e7a-9a98-119e631bf054",
   "metadata": {},
   "outputs": [],
   "source": [
    "encoder1 = LabelEncoder()\n",
    "df[\"Invoice\"]=encoder1.fit_transform(df[\"Invoice\"])\n",
    "encoder2=LabelEncoder()\n",
    "df[\"Country\"]=encoder2.fit_transform(df[\"Country\"])\n",
    "encoder3=LabelEncoder()\n",
    "df[\"Customer ID\"]=encoder3.fit_transform(df[\"Customer ID\"])\n",
    "df.drop(columns=[\"StockCode\"],inplace=True)\n",
    "df[\"TotalStockCost\"]=df[\"Quantity\"]*df[\"Price\"]"
   ]
  },
  {
   "cell_type": "code",
   "execution_count": 8,
   "id": "1ddbfd8c-955e-4952-a444-23274b3a56e1",
   "metadata": {},
   "outputs": [],
   "source": [
    "df_to_analyze1=df.copy()\n",
    "df_to_analyze1[\"InvTCS_Combined\"]=(df_to_analyze1[\"Invoice\"].astype(\"str\"))+\"-\"+(df_to_analyze1[\"TotalStockCost\"].astype(\"str\"))"
   ]
  },
  {
   "cell_type": "code",
   "execution_count": 9,
   "id": "bb8ff325-7595-41ba-85d2-57ef48b142aa",
   "metadata": {},
   "outputs": [
    {
     "name": "stdout",
     "output_type": "stream",
     "text": [
      "<class 'pandas.core.frame.DataFrame'>\n",
      "Index: 1041671 entries, 0 to 1067370\n",
      "Data columns (total 10 columns):\n",
      " #   Column           Non-Null Count    Dtype  \n",
      "---  ------           --------------    -----  \n",
      " 0   Invoice          1041671 non-null  int64  \n",
      " 1   Description      1041671 non-null  object \n",
      " 2   Quantity         1041671 non-null  int64  \n",
      " 3   Price            1041671 non-null  float64\n",
      " 4   Customer ID      1041671 non-null  int64  \n",
      " 5   Country          1041671 non-null  int64  \n",
      " 6   Timestamp        1041671 non-null  int32  \n",
      " 7   Month            1041671 non-null  int32  \n",
      " 8   TotalStockCost   1041671 non-null  float64\n",
      " 9   InvTCS_Combined  1041671 non-null  object \n",
      "dtypes: float64(2), int32(2), int64(4), object(2)\n",
      "memory usage: 79.5+ MB\n"
     ]
    }
   ],
   "source": [
    "df_to_analyze1.info()"
   ]
  },
  {
   "cell_type": "code",
   "execution_count": 10,
   "id": "b6a4a381-4215-48f0-923b-995e553e09d4",
   "metadata": {},
   "outputs": [
    {
     "name": "stdout",
     "output_type": "stream",
     "text": [
      "yo\n",
      "50.57758092880249\n"
     ]
    }
   ],
   "source": [
    "#scaler=StandardScaler()\n",
    "at=time.time()\n",
    "df_to_analyze1_grouped=df_to_analyze1.groupby(\"Customer ID\").agg({\"Quantity\":[\"sum\",\"mean\",lambda x:x.quantile(0.25),lambda x:x.quantile(0.5),\n",
    "                                                                             lambda x:x.quantile(0.75)],\n",
    "\"Timestamp\":[\"min\",lambda x:x.quantile(0.25),lambda x:x.quantile(0.5),lambda x:x.quantile(0.75),\"max\",lambda x:-1*skew(x.unique())],\"TotalStockCost\":[\"sum\",\"mean\",\n",
    "                                                                                                            lambda x:x.quantile(0.25),\n",
    "                                                                                                            lambda x:x.quantile(0.5),\n",
    "                                                                                                            lambda x:x.quantile(0.75)\n",
    "                                                                                                                        ],\n",
    "                                                                  \"Price\":[\"sum\",\"mean\",lambda x:x.quantile(0.25),lambda x:x.quantile(0.5),\n",
    "                                                                          lambda x:x.quantile(0.75),\n",
    "                                                                          ],\n",
    "                                                                  \"Description\":lambda x:give_dictionary(x),\n",
    "                                                                  \"InvTCS_Combined\":give_inv_cost,\n",
    "                                                                  \"Invoice\":lambda x:len(x.unique())\n",
    "}).reset_index()\n",
    "\n",
    "print(\"yo\")\n",
    "print(time.time()-at)"
   ]
  },
  {
   "cell_type": "code",
   "execution_count": 11,
   "id": "32b6a74d-50b0-4ff3-9202-880a7b0a6713",
   "metadata": {},
   "outputs": [
    {
     "name": "stdout",
     "output_type": "stream",
     "text": [
      "<class 'pandas.core.frame.DataFrame'>\n",
      "RangeIndex: 5879 entries, 0 to 5878\n",
      "Data columns (total 25 columns):\n",
      " #   Column                            Non-Null Count  Dtype  \n",
      "---  ------                            --------------  -----  \n",
      " 0   (Customer ID, )                   5879 non-null   int64  \n",
      " 1   (Quantity, sum)                   5879 non-null   int64  \n",
      " 2   (Quantity, mean)                  5879 non-null   float64\n",
      " 3   (Quantity, <lambda_0>)            5879 non-null   float64\n",
      " 4   (Quantity, <lambda_1>)            5879 non-null   float64\n",
      " 5   (Quantity, <lambda_2>)            5879 non-null   float64\n",
      " 6   (Timestamp, min)                  5879 non-null   int32  \n",
      " 7   (Timestamp, <lambda_0>)           5879 non-null   float64\n",
      " 8   (Timestamp, <lambda_1>)           5879 non-null   float64\n",
      " 9   (Timestamp, <lambda_2>)           5879 non-null   float64\n",
      " 10  (Timestamp, max)                  5879 non-null   int32  \n",
      " 11  (Timestamp, <lambda_3>)           4189 non-null   float64\n",
      " 12  (TotalStockCost, sum)             5879 non-null   float64\n",
      " 13  (TotalStockCost, mean)            5879 non-null   float64\n",
      " 14  (TotalStockCost, <lambda_0>)      5879 non-null   float64\n",
      " 15  (TotalStockCost, <lambda_1>)      5879 non-null   float64\n",
      " 16  (TotalStockCost, <lambda_2>)      5879 non-null   float64\n",
      " 17  (Price, sum)                      5879 non-null   float64\n",
      " 18  (Price, mean)                     5879 non-null   float64\n",
      " 19  (Price, <lambda_0>)               5879 non-null   float64\n",
      " 20  (Price, <lambda_1>)               5879 non-null   float64\n",
      " 21  (Price, <lambda_2>)               5879 non-null   float64\n",
      " 22  (Description, <lambda>)           5879 non-null   object \n",
      " 23  (InvTCS_Combined, give_inv_cost)  5879 non-null   float64\n",
      " 24  (Invoice, <lambda>)               5879 non-null   int64  \n",
      "dtypes: float64(19), int32(2), int64(3), object(1)\n",
      "memory usage: 1.1+ MB\n"
     ]
    }
   ],
   "source": [
    "df_to_analyze1_grouped.info()"
   ]
  },
  {
   "cell_type": "code",
   "execution_count": 12,
   "id": "d2a0845a-c08d-42b6-9fba-7bff64640750",
   "metadata": {},
   "outputs": [],
   "source": [
    "df_to_analyze1_grouped.columns=[\"CustomerID\",\"Quantity_sum\",\"Quantity_mean\",\"Quantity_25q\",\"Quantity_50q\",\"Quantity_75q\",\n",
    "                               \"Timestamp_min\",\"Timestamp_25q\",\"Timestamp_50q\",\"Timestamp_75q\",\"Timestamp_max\",\"Timestamp_recency\",\n",
    "                               \"TotalStockCost_sum\",\"TotalStockCost_mean\",\"TotalStockCost_25q\",\"TotalStockCost_50q\",\"TotalStockCost_75q\",\n",
    "                               \"Price_sum\",\"Price_mean\",\"Price_25q\",\"Price_50q\",\"Price_75q\",\n",
    "                               \"Description_keywords\",\"AverageInvoiceCost\",\"InvoiceCount\"]\n",
    "\n",
    "df_to_analyze1_grouped[\"Timestamp_diff\"]=df_to_analyze1_grouped[\"Timestamp_max\"]-df_to_analyze1_grouped[\"Timestamp_min\"]\n",
    "df_to_analyze1_grouped[\"Frequency\"]=df_to_analyze1_grouped[\"InvoiceCount\"]/df_to_analyze1_grouped[\"Timestamp_diff\"]"
   ]
  },
  {
   "cell_type": "code",
   "execution_count": 13,
   "id": "94c67e6a-83f4-4d3f-a7fd-c1365b652f37",
   "metadata": {},
   "outputs": [
    {
     "name": "stdout",
     "output_type": "stream",
     "text": [
      "<class 'pandas.core.frame.DataFrame'>\n",
      "RangeIndex: 5879 entries, 0 to 5878\n",
      "Data columns (total 27 columns):\n",
      " #   Column                Non-Null Count  Dtype  \n",
      "---  ------                --------------  -----  \n",
      " 0   CustomerID            5879 non-null   int64  \n",
      " 1   Quantity_sum          5879 non-null   int64  \n",
      " 2   Quantity_mean         5879 non-null   float64\n",
      " 3   Quantity_25q          5879 non-null   float64\n",
      " 4   Quantity_50q          5879 non-null   float64\n",
      " 5   Quantity_75q          5879 non-null   float64\n",
      " 6   Timestamp_min         5879 non-null   int32  \n",
      " 7   Timestamp_25q         5879 non-null   float64\n",
      " 8   Timestamp_50q         5879 non-null   float64\n",
      " 9   Timestamp_75q         5879 non-null   float64\n",
      " 10  Timestamp_max         5879 non-null   int32  \n",
      " 11  Timestamp_recency     4189 non-null   float64\n",
      " 12  TotalStockCost_sum    5879 non-null   float64\n",
      " 13  TotalStockCost_mean   5879 non-null   float64\n",
      " 14  TotalStockCost_25q    5879 non-null   float64\n",
      " 15  TotalStockCost_50q    5879 non-null   float64\n",
      " 16  TotalStockCost_75q    5879 non-null   float64\n",
      " 17  Price_sum             5879 non-null   float64\n",
      " 18  Price_mean            5879 non-null   float64\n",
      " 19  Price_25q             5879 non-null   float64\n",
      " 20  Price_50q             5879 non-null   float64\n",
      " 21  Price_75q             5879 non-null   float64\n",
      " 22  Description_keywords  5879 non-null   object \n",
      " 23  AverageInvoiceCost    5879 non-null   float64\n",
      " 24  InvoiceCount          5879 non-null   int64  \n",
      " 25  Timestamp_diff        5879 non-null   int32  \n",
      " 26  Frequency             5879 non-null   float64\n",
      "dtypes: float64(20), int32(3), int64(3), object(1)\n",
      "memory usage: 1.1+ MB\n"
     ]
    }
   ],
   "source": [
    "df_to_analyze1_grouped.info()"
   ]
  },
  {
   "cell_type": "code",
   "execution_count": 14,
   "id": "5002adc3-f313-4306-aa7a-7a27211b53cc",
   "metadata": {},
   "outputs": [
    {
     "name": "stdout",
     "output_type": "stream",
     "text": [
      "47\n"
     ]
    }
   ],
   "source": [
    "a1=df_to_analyze1_grouped.sort_values(by=\"TotalStockCost_mean\",ascending=False)[\"CustomerID\"].head(588)\n",
    "a2=df_to_analyze1_grouped.sort_values(by=\"TotalStockCost_sum\",ascending=False)[\"CustomerID\"].head(588)\n",
    "a3=a2[a2.isin(a1.values)]                                                                                               \n",
    "a4=df_to_analyze1_grouped.sort_values(by=\"Price_mean\",ascending=False)[\"CustomerID\"].head(588)\n",
    "a5=a4[a4.isin(a2.values)]\n",
    "print(len(a5))"
   ]
  },
  {
   "cell_type": "code",
   "execution_count": null,
   "id": "4e32a3c4-57a2-41a2-b199-21649511eb1d",
   "metadata": {},
   "outputs": [],
   "source": []
  },
  {
   "cell_type": "code",
   "execution_count": null,
   "id": "8788c0f6-10ea-4521-b024-ab531edf55ad",
   "metadata": {},
   "outputs": [],
   "source": []
  }
 ],
 "metadata": {
  "kernelspec": {
   "display_name": "Python 3 (ipykernel)",
   "language": "python",
   "name": "python3"
  },
  "language_info": {
   "codemirror_mode": {
    "name": "ipython",
    "version": 3
   },
   "file_extension": ".py",
   "mimetype": "text/x-python",
   "name": "python",
   "nbconvert_exporter": "python",
   "pygments_lexer": "ipython3",
   "version": "3.11.9"
  }
 },
 "nbformat": 4,
 "nbformat_minor": 5
}
